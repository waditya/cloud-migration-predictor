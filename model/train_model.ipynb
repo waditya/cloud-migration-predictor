{
 "cells": [
  {
   "cell_type": "code",
   "execution_count": null,
   "id": "82e5ead5",
   "metadata": {},
   "outputs": [],
   "source": [
    "import pandas as pd\n",
    "from sklearn.model_selection import train_test_split\n",
    "from sklearn.ensemble import RandomForestClassifier\n",
    "import xgboost as xgb\n",
    "import pickle"
   ]
  },
  {
   "cell_type": "code",
   "execution_count": null,
   "id": "4a780849",
   "metadata": {},
   "outputs": [],
   "source": [
    "# Load data\n",
    "df = pd.read_csv(\"../data/synthetic_server_data.csv\")\n",
    "df[\"storage_type\"] = df[\"storage_type\"].map({\"ssd\": 1, \"hdd\": 0})\n",
    "df[\"os\"] = df[\"os\"].map({\"linux\": 1, \"windows\": 0})"
   ]
  },
  {
   "cell_type": "code",
   "execution_count": null,
   "id": "156152e5",
   "metadata": {},
   "outputs": [],
   "source": [
    "X = df.drop(\"migration_feasible\", axis=1)\n",
    "y = df[\"migration_feasible\"]"
   ]
  },
  {
   "cell_type": "code",
   "execution_count": null,
   "id": "0a0450e3",
   "metadata": {},
   "outputs": [],
   "source": [
    "X_train, X_test, y_train, y_test = train_test_split(X, y, test_size=0.2, random_state=42)"
   ]
  },
  {
   "cell_type": "code",
   "execution_count": null,
   "id": "fb706603",
   "metadata": {},
   "outputs": [],
   "source": [
    "# Train XGBoost model\n",
    "model = xgb.XGBClassifier()\n",
    "model.fit(X_train, y_train)"
   ]
  },
  {
   "cell_type": "code",
   "execution_count": null,
   "id": "6edc5363",
   "metadata": {},
   "outputs": [],
   "source": [
    "# Save model\n",
    "with open(\"xgboost_model.pkl\", \"wb\") as f:\n",
    "    pickle.dump(model, f)"
   ]
  }
 ],
 "metadata": {
  "kernelspec": {
   "display_name": "Python 3",
   "language": "python",
   "name": "python3"
  },
  "language_info": {
   "name": "python",
   "version": "3.11.3"
  }
 },
 "nbformat": 4,
 "nbformat_minor": 5
}
